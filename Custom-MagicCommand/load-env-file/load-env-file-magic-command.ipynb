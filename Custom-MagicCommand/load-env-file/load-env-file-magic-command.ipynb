{
 "metadata": {
  "kernelspec": {
   "display_name": ".NET (C#)",
   "language": "C#",
   "name": ".net-csharp"
  },
  "language_info": {
   "name": "C#"
  }
 },
 "cells": [
  {
   "cell_type": "code",
   "execution_count": null,
   "source": [
    "#!csharp\r\n",
    "\r\n",
    "#r \"nuget:dotenv.net,*-*\"\r\n",
    "\r\n",
    "using Microsoft.DotNet.Interactive;\r\n",
    "using Microsoft.DotNet.Interactive.Commands;\r\n",
    "using Microsoft.DotNet.Interactive.Formatting;\r\n",
    "using System;\r\n",
    "using System.CommandLine;\r\n",
    "using System.CommandLine.Invocation;\r\n",
    "using System.IO;\r\n",
    "using System.Threading.Tasks;\r\n",
    "\r\n",
    "var loadEnvCommand = new Command(\"#!env\", \"Load .env to .NET Notebook.\")\r\n",
    "{\r\n",
    "    new Option<string>(new[]{ \"-f\", \"--file-path\" }, \"The .env file path\"),\r\n",
    "    new Option<string>(new[]{ \"-n\", \"--var-name\" }, \"The variable name which contain the .env setting\"),\r\n",
    "};\r\n",
    "\r\n",
    "loadEnvCommand.Handler = CommandHandler.Create(\r\n",
    "    async (string filePath, string varName, KernelInvocationContext invocationContext) =>\r\n",
    "    {\r\n",
    "        invocationContext.Display($\"Load {filePath}\");\r\n",
    "\r\n",
    "        var filePathString = string.IsNullOrEmpty(filePath) ? string.Empty : Path.Combine(Environment.CurrentDirectory, filePath);\r\n",
    "        Console.WriteLine($\".env file path: {filePathString}\");\r\n",
    "        var command = new SubmitCode($\"var {varName} = dotenv.net.DotEnv.Fluent().WithEnvFiles(\\\"{filePathString.Replace(@\"\\\", @\"\\\\\")}\\\").Read();\");\r\n",
    "\r\n",
    "        await invocationContext.HandlingKernel.SendAsync(command);\r\n",
    "    });\r\n",
    "\r\n",
    "Kernel.Root.AddDirective(loadEnvCommand);\r\n",
    "\r\n",
    "if (KernelInvocationContext.Current is { } context)\r\n",
    "{\r\n",
    "    PocketView view = PocketViewTags.div(\r\n",
    "        PocketViewTags.code(\"LoadEnvFileScriptExtension\"), \" is loaded. It adds loading feature for .env file.\", PocketViewTags.br,\r\n",
    "        \"Try it by running: \", PocketViewTags.code(\"#!env -f [file-path] -n [variable-name]\")\r\n",
    "    );\r\n",
    "\r\n",
    "    context.Display(view);\r\n",
    "}\r\n"
   ],
   "outputs": [],
   "metadata": {
    "dotnet_interactive": {
     "language": "csharp"
    }
   }
  },
  {
   "cell_type": "code",
   "execution_count": null,
   "source": [
    "#!env -f .env -n MyEnv\r\n",
    "\r\n",
    "display(MyEnv[\"YOUR_VARIABLE\"]);"
   ],
   "outputs": [],
   "metadata": {
    "dotnet_interactive": {
     "language": "csharp"
    }
   }
  }
 ],
 "nbformat": 4,
 "nbformat_minor": 2
}