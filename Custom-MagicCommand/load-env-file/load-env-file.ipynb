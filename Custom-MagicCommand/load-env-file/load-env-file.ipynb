{
 "metadata": {
  "kernelspec": {
   "display_name": ".NET (C#)",
   "language": "C#",
   "name": ".net-csharp"
  },
  "language_info": {
   "name": "C#"
  }
 },
 "cells": [
  {
   "cell_type": "markdown",
   "source": [
    "# 載入 .env 檔案內的設定值\r\n",
    "\r\n",
    "安裝 `dotenv.net` NuGet 套件來載入 `.env` 檔案，後續就可以使用 C# 來取得指定位置的 `.env` 檔案內的設定值。"
   ],
   "metadata": {
    "dotnet_interactive": {
     "language": "csharp"
    }
   }
  },
  {
   "cell_type": "code",
   "execution_count": null,
   "source": [
    "#i \"nuget:https://api.nuget.org/v3/index.json\"\r\n",
    "#r \"nuget:dotenv.net,*-*\""
   ],
   "outputs": [],
   "metadata": {
    "dotnet_interactive": {
     "language": "csharp"
    }
   }
  },
  {
   "cell_type": "code",
   "execution_count": null,
   "source": [
    "using dotenv.net;\r\n",
    "\r\n",
    "var MyEnv = DotEnv.Fluent()\r\n",
    "    .WithEnvFiles(\".\\\\env\\\\.env\")\r\n",
    "    .Read();\r\n",
    "\r\n",
    "display(MyEnv[\"YOUR_VARIABLE\"]);"
   ],
   "outputs": [],
   "metadata": {
    "dotnet_interactive": {
     "language": "csharp"
    }
   }
  }
 ],
 "nbformat": 4,
 "nbformat_minor": 2
}