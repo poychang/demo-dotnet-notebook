{
 "metadata": {
  "kernelspec": {
   "display_name": ".NET (C#)",
   "language": "C#",
   "name": ".net-csharp"
  },
  "language_info": {
   "name": "C#"
  }
 },
 "cells": [
  {
   "cell_type": "markdown",
   "source": [
    "# 建置套件並載入 .env 檔案內的設定值\r\n",
    "\r\n",
    "先執行建置專案的指令，並將套件打包成 NuGet 檔案存放在專案資料夾中。"
   ],
   "metadata": {
    "dotnet_interactive": {
     "language": "csharp"
    }
   }
  },
  {
   "cell_type": "code",
   "execution_count": null,
   "source": [
    "#!pwsh\r\n",
    "# 1. 建置專案\r\n",
    "dotnet build\r\n",
    "\r\n",
    "# 2. 打包成 NuGet 套件。請注意，每次打包時請遞增版本號，因為安裝之後，該套件會快取在 NuGet Cache 中，每次增加版本號可以避免找不到正確版本的問題\r\n",
    "dotnet pack /p:PackageVersion=1.0.2\r\n",
    "\r\n",
    "# 3. 檢查 NuGet 套件是否存在\r\n",
    "Get-ChildItem -Recurse LoadEnvFileExtension*.nupkg"
   ],
   "outputs": [],
   "metadata": {
    "dotnet_interactive": {
     "language": "pwsh"
    }
   }
  },
  {
   "cell_type": "markdown",
   "source": [
    "載入建置好的 NuGet 套件"
   ],
   "metadata": {}
  },
  {
   "cell_type": "code",
   "execution_count": null,
   "source": [
    "#i nuget:C:\\Users\\poychang\\Code\\Github\\dotnet-notebooks\\magic-command-load-env-file-extension\\LoadEnvFileExtension\\bin\\Debug\\\r\n",
    "#r \"nuget:LoadEnvFileExtension,1.0.2\""
   ],
   "outputs": [],
   "metadata": {
    "dotnet_interactive": {
     "language": "csharp"
    }
   }
  },
  {
   "cell_type": "markdown",
   "source": [
    "可以執行 `#!env -h` 顯示該 Magic Command 的使用說明"
   ],
   "metadata": {}
  },
  {
   "cell_type": "code",
   "execution_count": null,
   "source": [
    "#!env -h"
   ],
   "outputs": [],
   "metadata": {
    "dotnet_interactive": {
     "language": "csharp"
    }
   }
  },
  {
   "cell_type": "markdown",
   "source": [
    "基本的使用方式如下："
   ],
   "metadata": {}
  },
  {
   "cell_type": "code",
   "execution_count": null,
   "source": [
    "#!env -f \".\\env\\.env\" -n MyEnv\r\n",
    "\r\n",
    "display(MyEnv[\"YOUR_VARIABLE\"]);"
   ],
   "outputs": [],
   "metadata": {
    "dotnet_interactive": {
     "language": "csharp"
    }
   }
  }
 ],
 "nbformat": 4,
 "nbformat_minor": 2
}