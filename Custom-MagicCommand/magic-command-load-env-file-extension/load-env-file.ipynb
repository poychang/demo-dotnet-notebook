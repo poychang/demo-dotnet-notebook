{
 "metadata": {
  "kernelspec": {
   "display_name": ".NET (C#)",
   "language": "C#",
   "name": ".net-csharp"
  },
  "language_info": {
   "name": "C#"
  }
 },
 "cells": [
  {
   "cell_type": "markdown",
   "source": [
    "# 載入 .env 檔案內的設定值\r\n",
    "\r\n",
    "使用上傳到 NuGet.org 的 LoadEnvFileExtension 套件，載入 `.env` 檔案內的設定值"
   ],
   "metadata": {}
  },
  {
   "cell_type": "markdown",
   "source": [
    "安裝 NuGet 套件"
   ],
   "metadata": {}
  },
  {
   "cell_type": "code",
   "execution_count": null,
   "source": [
    "#i \"nuget:https://api.nuget.org/v3/index.json\"\r\n",
    "#r \"nuget:LoadEnvFileExtension,*-*\""
   ],
   "outputs": [],
   "metadata": {
    "dotnet_interactive": {
     "language": "csharp"
    }
   }
  },
  {
   "cell_type": "markdown",
   "source": [
    "可以執行 `#!env -h` 顯示該 Magic Command 的使用說明"
   ],
   "metadata": {}
  },
  {
   "cell_type": "code",
   "execution_count": null,
   "source": [
    "#!env -h"
   ],
   "outputs": [],
   "metadata": {
    "dotnet_interactive": {
     "language": "csharp"
    }
   }
  },
  {
   "cell_type": "markdown",
   "source": [
    "基本的使用方式如下："
   ],
   "metadata": {}
  },
  {
   "cell_type": "code",
   "execution_count": null,
   "source": [
    "#!env -f \".\\env\\.env\" -n MyEnv\r\n",
    "\r\n",
    "display(MyEnv[\"YOUR_VARIABLE\"]);"
   ],
   "outputs": [],
   "metadata": {
    "dotnet_interactive": {
     "language": "csharp"
    }
   }
  }
 ],
 "nbformat": 4,
 "nbformat_minor": 2
}