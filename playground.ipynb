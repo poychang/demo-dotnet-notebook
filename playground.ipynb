{
 "metadata": {
  "kernelspec": {
   "display_name": ".NET (C#)",
   "language": "C#",
   "name": ".net-csharp"
  },
  "language_info": {
   "name": "C#"
  }
 },
 "cells": [
  {
   "cell_type": "markdown",
   "source": [
    "# Hello World\r\n",
    "\r\n",
    "將程式碼和 Markdown 文件，放在一起，邊看說明邊執行 😀\r\n",
    "\r\n",
    "先來個輸出 Hello World 吧\r\n"
   ],
   "metadata": {}
  },
  {
   "cell_type": "code",
   "execution_count": null,
   "source": [
    "Console.WriteLine(\"Hello World\");"
   ],
   "outputs": [],
   "metadata": {
    "dotnet_interactive": {
     "language": "csharp"
    }
   }
  },
  {
   "cell_type": "markdown",
   "source": [
    "預設載入以下套件參考\r\n",
    "\r\n",
    "- .NETStandard.Library\r\n",
    "- Microsoft.AspNetCore.Html.Abstractions\r\n",
    "- Microsoft.DotNet.Interactive\r\n",
    "- Microsoft.DotNet.Interactive.Formatting\r\n",
    "\r\n",
    "預設使用以下 namespace\r\n",
    "\r\n",
    "- `System`\r\n",
    "- `System.Collections`\r\n",
    "- `System.Collections.Generic`\r\n",
    "- `System.Ling`\r\n",
    "- `System.Threading.Tasks`\r\n",
    "- `System.Text`\r\n",
    "- `Microsoft.DotNet.Interactive`\r\n",
    "- `Microsoft.DotNet.Interactive.Formatting`\r\n",
    "\r\n",
    "## .NET Notebook 的 C# 語法\r\n",
    "\r\n",
    "- .NET Notebook 使用修改版的 C# Script 語法\r\n",
    "- 也就是 `.csx` 腳本的格式，跟平常寫的 C# 不一樣但也差不多\r\n",
    "- http://scriptcs.net/\r\n",
    "\r\n"
   ],
   "metadata": {}
  },
  {
   "cell_type": "markdown",
   "source": [
    "# 使用其他 NuGet 套件\r\n",
    "\r\n",
    "預設的功能往往不足以使用，我們可以透過 NuGet 來擴充 API\r\n"
   ],
   "metadata": {}
  },
  {
   "cell_type": "code",
   "execution_count": null,
   "source": [
    "// 設定 NuGet.org 的套件來源\r\n",
    "#i \"nuget:https://api.nuget.org/v3/index.json\"\r\n",
    "// 使用本機環境下的 NuGet 套件來源\r\n",
    "// #i \"nuget:C:\\myorg\\mypackage\\src\\bin\\Release\"\r\n",
    "\r\n",
    "// 還原指定的 NuGet 套件\r\n",
    "// 指定最新版\r\n",
    "#r \"nuget:Newtonsoft.Json\"\r\n",
    "\r\n",
    "// 指定版本號\r\n",
    "// #r \"nuget:Newtonsoft.Json,13.0.1\"\r\n",
    "\r\n",
    "// 指定最新 pre-release 版本\r\n",
    "// #r \"nuget:Newtonsoft.Json,*-*\"\r\n"
   ],
   "outputs": [],
   "metadata": {
    "dotnet_interactive": {
     "language": "csharp"
    }
   }
  },
  {
   "cell_type": "code",
   "execution_count": null,
   "source": [
    "using Newtonsoft.Json;\r\n",
    "\r\n",
    "var program = new { Name = \".NET Notebook\", Year = 2021 };\r\n",
    "var support = new []{ \"Jupyter\", \"nteract\", \"Visual Studio Code\" };\r\n",
    "Console.WriteLine(JsonConvert.SerializeObject(program, Formatting.Indented));\r\n",
    "Console.WriteLine(JsonConvert.SerializeObject(support));\r\n"
   ],
   "outputs": [],
   "metadata": {
    "dotnet_interactive": {
     "language": "csharp"
    }
   }
  },
  {
   "cell_type": "markdown",
   "source": [
    "除了使用 C# 環境中常用的 `Console.WriteLine()` 來輸出結果之外，還可以使用 .NET Notebook 內建的 `display()` 功能來"
   ],
   "metadata": {}
  },
  {
   "cell_type": "code",
   "execution_count": null,
   "source": [
    "display(program);\r\n",
    "display(support);"
   ],
   "outputs": [],
   "metadata": {
    "dotnet_interactive": {
     "language": "csharp"
    }
   }
  },
  {
   "cell_type": "markdown",
   "source": [
    "當想要查看所有頂層變數的資訊時，可以使用以下兩個 Magic Command\r\n",
    "\r\n",
    "- `#!who` 顯示頂層變數的名稱\r\n",
    "- `#!whos` 顯示頂層變數的名稱、類型和值\r\n"
   ],
   "metadata": {}
  },
  {
   "cell_type": "code",
   "execution_count": null,
   "source": [
    "#!who\r\n",
    "#!whos"
   ],
   "outputs": [],
   "metadata": {
    "dotnet_interactive": {
     "language": "csharp"
    }
   }
  },
  {
   "cell_type": "markdown",
   "source": [
    "# Magic Command\r\n",
    "\r\n",
    "在行的開頭，並以 `#!` 或 `#` 作為前綴的寫法，可被視為 Magic Command\r\n",
    "\r\n",
    "目的在於將複雜的行為封裝成單一指令，用更快捷的方式執行\r\n",
    "\r\n",
    "基本上可分為以下兩種類型\r\n",
    "\r\n",
    "- 通用型\r\n",
    "  - 宣告類 eg. `#!markdown`、`#!csharp`...\r\n",
    "  - 功能類 eg. `#!about`、`#!lsmagic`、`#!time`...\r\n",
    "- 特定語言專用\r\n"
   ],
   "metadata": {}
  },
  {
   "cell_type": "code",
   "execution_count": null,
   "source": [
    "#!html\r\n",
    "\r\n",
    "<p>Hello World</p>"
   ],
   "outputs": [],
   "metadata": {
    "dotnet_interactive": {
     "language": "html"
    }
   }
  },
  {
   "cell_type": "code",
   "execution_count": null,
   "source": [
    "#!about"
   ],
   "outputs": [],
   "metadata": {
    "dotnet_interactive": {
     "language": "csharp"
    }
   }
  },
  {
   "cell_type": "code",
   "execution_count": null,
   "source": [
    "#!lsmagic"
   ],
   "outputs": [],
   "metadata": {
    "dotnet_interactive": {
     "language": "csharp"
    }
   }
  },
  {
   "cell_type": "code",
   "execution_count": null,
   "source": [
    "#!time\r\n",
    "System.Threading.Thread.Sleep(1000);"
   ],
   "outputs": [],
   "metadata": {
    "dotnet_interactive": {
     "language": "csharp"
    }
   }
  },
  {
   "cell_type": "markdown",
   "source": [
    "## #!share\r\n",
    "\r\n",
    ".NET Interactive 提供 C#、F# 和 PowerShell 的 Subkernal 共享變數的功能"
   ],
   "metadata": {}
  },
  {
   "cell_type": "code",
   "execution_count": null,
   "source": [
    "#!csharp\r\n",
    "var speaker = new { Name = \"Poy Chang\", Age = 37 };\r\n",
    "\r\n",
    "speaker"
   ],
   "outputs": [],
   "metadata": {
    "dotnet_interactive": {
     "language": "csharp"
    }
   }
  },
  {
   "cell_type": "code",
   "execution_count": null,
   "source": [
    "#!pwsh\r\n",
    "#!share --from csharp speaker\r\n",
    "\r\n",
    "ConvertTo-Json $speaker"
   ],
   "outputs": [],
   "metadata": {
    "dotnet_interactive": {
     "language": "pwsh"
    }
   }
  },
  {
   "cell_type": "markdown",
   "source": [
    "## #!value\r\n",
    "\r\n",
    "我們也可以單純的透過 `#!value` 命令將以下兩種來源的值轉換成變數\r\n",
    "\r\n",
    "- 直接給予資料值\r\n",
    "- 從指定的檔案中讀取"
   ],
   "metadata": {}
  },
  {
   "cell_type": "code",
   "execution_count": null,
   "source": [
    "#!value --name speakerJson\r\n",
    "{ \"Name\": \"Poy Chang\", \"Age\": 37 }"
   ],
   "outputs": [],
   "metadata": {
    "dotnet_interactive": {
     "language": "csharp"
    }
   }
  },
  {
   "cell_type": "code",
   "execution_count": null,
   "source": [
    "#!share speakerJson --from value\r\n",
    "\r\n",
    "class Speaker {\r\n",
    "    public string Name { get; set; }\r\n",
    "    public int Age { get; set; }\r\n",
    "}\r\n",
    "\r\n",
    "var speaker = System.Text.Json.JsonSerializer.Deserialize<Speaker>(speakerJson);\r\n",
    "display(speaker);\r\n"
   ],
   "outputs": [],
   "metadata": {
    "dotnet_interactive": {
     "language": "csharp"
    }
   }
  },
  {
   "cell_type": "code",
   "execution_count": null,
   "source": [
    "#!value --from-file speaker-data.json --name speakerData"
   ],
   "outputs": [],
   "metadata": {
    "dotnet_interactive": {
     "language": "csharp"
    }
   }
  },
  {
   "cell_type": "code",
   "execution_count": null,
   "source": [
    "#!share speakerData --from value\r\n",
    "\r\n",
    "display(speakerData);"
   ],
   "outputs": [],
   "metadata": {
    "dotnet_interactive": {
     "language": "csharp"
    }
   }
  },
  {
   "cell_type": "markdown",
   "source": [
    "# 呼叫 REST API\r\n",
    "\r\n",
    "用最簡單的方式來呼叫 REST API"
   ],
   "metadata": {}
  },
  {
   "cell_type": "code",
   "execution_count": null,
   "source": [
    "using System.Net.Http;\r\n",
    "\r\n",
    "var contents = await new HttpClient().GetStringAsync(\"https://jsonplaceholder.typicode.com/todos/1\");\r\n",
    "\r\n",
    "display(contents);"
   ],
   "outputs": [],
   "metadata": {
    "dotnet_interactive": {
     "language": "csharp"
    }
   }
  },
  {
   "cell_type": "markdown",
   "source": [
    "# 連結資料庫\r\n"
   ],
   "metadata": {
    "dotnet_interactive": {
     "language": "csharp"
    }
   }
  },
  {
   "cell_type": "code",
   "execution_count": null,
   "source": [
    "#r \"nuget:Microsoft.DotNet.Interactive.SqlServer,*-*\""
   ],
   "outputs": [],
   "metadata": {
    "dotnet_interactive": {
     "language": "csharp"
    }
   }
  },
  {
   "cell_type": "code",
   "execution_count": null,
   "source": [
    "#!connect mssql --create-dbcontext --kernel-name adventureworks \"Server=localhost\\SQLEXPRESS;Database=AdventureWorksLT2019;Trusted_Connection=True;\""
   ],
   "outputs": [],
   "metadata": {
    "dotnet_interactive": {
     "language": "csharp"
    }
   }
  },
  {
   "cell_type": "code",
   "execution_count": null,
   "source": [
    "#!sql-adventureworks\r\n",
    "\r\n",
    "select * from SalesLT.Product"
   ],
   "outputs": [],
   "metadata": {
    "dotnet_interactive": {
     "language": "csharp"
    }
   }
  },
  {
   "cell_type": "code",
   "execution_count": null,
   "source": [
    "adventureworks.Product.ExploreWithSandDance()"
   ],
   "outputs": [],
   "metadata": {
    "dotnet_interactive": {
     "language": "csharp"
    }
   }
  },
  {
   "cell_type": "markdown",
   "source": [
    "# Sand Dance\r\n",
    "\r\n",
    "[SandDance](https://microsoft.github.io/SandDance/) 是微軟研究院推出的數據可視化工具\r\n",
    "\r\n",
    "提供使用者和 3D 訊息圖表進行互動，並且可以用不同的角度來呈現分析結果，讓使用者藉由可視化的方式直觀的接受數據訊息，幫助我們找到數據中潛在的特徵\r\n"
   ],
   "metadata": {}
  },
  {
   "cell_type": "code",
   "execution_count": null,
   "source": [
    "#r \"nuget:Microsoft.DotNet.Interactive.ExtensionLab,*-*\""
   ],
   "outputs": [],
   "metadata": {
    "dotnet_interactive": {
     "language": "csharp"
    }
   }
  },
  {
   "cell_type": "code",
   "execution_count": null,
   "source": [
    "using System.IO;\r\n",
    "using System.Net.Http;\r\n",
    "\r\n",
    "string housingPath = \"housing.csv\";\r\n",
    "\r\n",
    "if (!File.Exists(housingPath))\r\n",
    "{\r\n",
    "    var contents = await new HttpClient()\r\n",
    "        .GetStringAsync(\"https://raw.githubusercontent.com/ageron/handson-ml2/master/datasets/housing/housing.csv\");\r\n",
    "        \r\n",
    "    File.WriteAllText(\"housing.csv\", contents);\r\n",
    "}"
   ],
   "outputs": [],
   "metadata": {
    "dotnet_interactive": {
     "language": "csharp"
    }
   }
  },
  {
   "cell_type": "code",
   "execution_count": null,
   "source": [
    "using Microsoft.Data.Analysis;\r\n",
    "using Microsoft.ML;\r\n",
    "using System.Collections.Generic;\r\n",
    "\r\n",
    "var housingData = DataFrame.LoadCsv(housingPath);"
   ],
   "outputs": [],
   "metadata": {
    "dotnet_interactive": {
     "language": "csharp"
    }
   }
  },
  {
   "cell_type": "code",
   "execution_count": null,
   "source": [
    "housingData.ExploreWithSandDance().Display();"
   ],
   "outputs": [],
   "metadata": {
    "dotnet_interactive": {
     "language": "csharp"
    }
   }
  }
 ],
 "nbformat": 4,
 "nbformat_minor": 2
}