{
 "cells": [
  {
   "cell_type": "markdown",
   "metadata": {},
   "source": [
    "# Hello World\n",
    "\n",
    "將程式碼和 Markdown 文件，放在一起，邊看說明邊執行 😀\n",
    "\n",
    "先來個輸出 Hello World 吧\n"
   ]
  },
  {
   "cell_type": "code",
   "execution_count": null,
   "metadata": {
    "dotnet_interactive": {
     "language": "csharp"
    },
    "vscode": {
     "languageId": "dotnet-interactive.csharp"
    }
   },
   "outputs": [],
   "source": [
    "Console.WriteLine(\"Hello World\");"
   ]
  },
  {
   "cell_type": "markdown",
   "metadata": {},
   "source": [
    "預設載入以下套件參考\n",
    "\n",
    "- .NETStandard.Library\n",
    "- Microsoft.AspNetCore.Html.Abstractions\n",
    "- Microsoft.DotNet.Interactive\n",
    "- Microsoft.DotNet.Interactive.Formatting\n",
    "\n",
    "預設使用以下 namespace\n",
    "\n",
    "- `System`\n",
    "- `System.Collections`\n",
    "- `System.Collections.Generic`\n",
    "- `System.Ling`\n",
    "- `System.Threading.Tasks`\n",
    "- `System.Text`\n",
    "- `Microsoft.DotNet.Interactive`\n",
    "- `Microsoft.DotNet.Interactive.Formatting`\n",
    "\n",
    "## .NET Notebook 的 C# 語法\n",
    "\n",
    "- .NET Notebook 使用修改版的 C# Script 語法\n",
    "- 也就是 `.csx` 腳本的格式，跟平常寫的 C# 不一樣但也差不多\n",
    "- http://scriptcs.net/\n",
    "\n"
   ]
  },
  {
   "cell_type": "markdown",
   "metadata": {},
   "source": [
    "# 使用其他 NuGet 套件\n",
    "\n",
    "預設的功能往往不足以使用，我們可以透過 NuGet 來擴充 API\n"
   ]
  },
  {
   "cell_type": "code",
   "execution_count": null,
   "metadata": {
    "dotnet_interactive": {
     "language": "csharp"
    },
    "vscode": {
     "languageId": "dotnet-interactive.csharp"
    }
   },
   "outputs": [],
   "source": [
    "// 設定 NuGet.org 的套件來源\n",
    "#i \"nuget:https://api.nuget.org/v3/index.json\"\n",
    "// 使用本機環境下的 NuGet 套件來源\n",
    "// #i \"nuget:C:\\myorg\\mypackage\\src\\bin\\Release\"\n",
    "\n",
    "// 還原指定的 NuGet 套件\n",
    "// 指定最新版\n",
    "#r \"nuget:Newtonsoft.Json\"\n",
    "\n",
    "// 指定版本號\n",
    "// #r \"nuget:Newtonsoft.Json,13.0.1\"\n",
    "\n",
    "// 指定最新 pre-release 版本\n",
    "// #r \"nuget:Newtonsoft.Json,*-*\"\n"
   ]
  },
  {
   "cell_type": "code",
   "execution_count": null,
   "metadata": {
    "dotnet_interactive": {
     "language": "csharp"
    },
    "vscode": {
     "languageId": "dotnet-interactive.csharp"
    }
   },
   "outputs": [],
   "source": [
    "using Newtonsoft.Json;\n",
    "\n",
    "var program = new { Name = \".NET Notebook\", Year = 2021 };\n",
    "var support = new []{ \"Jupyter\", \"nteract\", \"Visual Studio Code\" };\n",
    "Console.WriteLine(JsonConvert.SerializeObject(program, Formatting.Indented));\n",
    "Console.WriteLine(JsonConvert.SerializeObject(support));\n"
   ]
  },
  {
   "cell_type": "markdown",
   "metadata": {},
   "source": [
    "除了使用 C# 環境中常用的 `Console.WriteLine()` 來輸出結果之外，還可以使用 .NET Notebook 內建的 `display()` 功能來"
   ]
  },
  {
   "cell_type": "code",
   "execution_count": null,
   "metadata": {
    "dotnet_interactive": {
     "language": "csharp"
    },
    "vscode": {
     "languageId": "dotnet-interactive.csharp"
    }
   },
   "outputs": [],
   "source": [
    "display(program);\n",
    "display(support);"
   ]
  },
  {
   "cell_type": "markdown",
   "metadata": {},
   "source": [
    "當想要查看所有頂層變數的資訊時，可以使用以下兩個 Magic Command\n",
    "\n",
    "- `#!who` 顯示頂層變數的名稱\n",
    "- `#!whos` 顯示頂層變數的名稱、類型和值\n"
   ]
  },
  {
   "cell_type": "code",
   "execution_count": null,
   "metadata": {
    "dotnet_interactive": {
     "language": "csharp"
    },
    "vscode": {
     "languageId": "dotnet-interactive.csharp"
    }
   },
   "outputs": [],
   "source": [
    "#!who\n",
    "#!whos"
   ]
  },
  {
   "cell_type": "markdown",
   "metadata": {},
   "source": [
    "# Magic Command\n",
    "\n",
    "在行的開頭，並以 `#!` 或 `#` 作為前綴的寫法，可被視為 Magic Command\n",
    "\n",
    "目的在於將複雜的行為封裝成單一指令，用更快捷的方式執行\n",
    "\n",
    "基本上可分為以下兩種類型\n",
    "\n",
    "- 通用型\n",
    "  - 宣告類 eg. `#!markdown`、`#!csharp`...\n",
    "  - 功能類 eg. `#!about`、`#!lsmagic`、`#!time`...\n",
    "- 特定語言專用\n"
   ]
  },
  {
   "cell_type": "code",
   "execution_count": null,
   "metadata": {
    "dotnet_interactive": {
     "language": "html"
    },
    "vscode": {
     "languageId": "dotnet-interactive.html"
    }
   },
   "outputs": [],
   "source": [
    "#!html\n",
    "\n",
    "<p>Hello World</p>"
   ]
  },
  {
   "cell_type": "code",
   "execution_count": null,
   "metadata": {
    "dotnet_interactive": {
     "language": "csharp"
    },
    "vscode": {
     "languageId": "dotnet-interactive.csharp"
    }
   },
   "outputs": [],
   "source": [
    "#!about"
   ]
  },
  {
   "cell_type": "code",
   "execution_count": null,
   "metadata": {
    "dotnet_interactive": {
     "language": "csharp"
    },
    "vscode": {
     "languageId": "dotnet-interactive.csharp"
    }
   },
   "outputs": [],
   "source": [
    "#!lsmagic"
   ]
  },
  {
   "cell_type": "code",
   "execution_count": null,
   "metadata": {
    "dotnet_interactive": {
     "language": "csharp"
    },
    "vscode": {
     "languageId": "dotnet-interactive.csharp"
    }
   },
   "outputs": [],
   "source": [
    "#!time\n",
    "System.Threading.Thread.Sleep(1000);"
   ]
  },
  {
   "cell_type": "markdown",
   "metadata": {},
   "source": [
    "## #!share\n",
    "\n",
    ".NET Interactive 提供 C#、F# 和 PowerShell 的 Subkernal 共享變數的功能"
   ]
  },
  {
   "cell_type": "code",
   "execution_count": null,
   "metadata": {
    "dotnet_interactive": {
     "language": "csharp"
    },
    "vscode": {
     "languageId": "dotnet-interactive.csharp"
    }
   },
   "outputs": [],
   "source": [
    "#!csharp\n",
    "var speaker = new { Name = \"Poy Chang\", Age = 37 };\n",
    "\n",
    "speaker"
   ]
  },
  {
   "cell_type": "code",
   "execution_count": null,
   "metadata": {
    "dotnet_interactive": {
     "language": "pwsh"
    },
    "vscode": {
     "languageId": "dotnet-interactive.pwsh"
    }
   },
   "outputs": [],
   "source": [
    "#!pwsh\n",
    "#!share --from csharp speaker\n",
    "\n",
    "ConvertTo-Json $speaker"
   ]
  },
  {
   "cell_type": "markdown",
   "metadata": {},
   "source": [
    "## #!value\n",
    "\n",
    "我們也可以單純的透過 `#!value` 命令將以下兩種來源的值轉換成變數\n",
    "\n",
    "- 直接給予資料值\n",
    "- 從指定的檔案中讀取"
   ]
  },
  {
   "cell_type": "code",
   "execution_count": null,
   "metadata": {
    "dotnet_interactive": {
     "language": "csharp"
    },
    "vscode": {
     "languageId": "dotnet-interactive.csharp"
    }
   },
   "outputs": [],
   "source": [
    "#!value --name speakerJson\n",
    "{ \"Name\": \"Poy Chang\", \"Age\": 37 }"
   ]
  },
  {
   "cell_type": "code",
   "execution_count": null,
   "metadata": {
    "dotnet_interactive": {
     "language": "csharp"
    },
    "vscode": {
     "languageId": "dotnet-interactive.csharp"
    }
   },
   "outputs": [],
   "source": [
    "#!share speakerJson --from value\n",
    "\n",
    "class Speaker {\n",
    "    public string Name { get; set; }\n",
    "    public int Age { get; set; }\n",
    "}\n",
    "\n",
    "var speaker = System.Text.Json.JsonSerializer.Deserialize<Speaker>(speakerJson);\n",
    "display(speaker);\n"
   ]
  },
  {
   "cell_type": "code",
   "execution_count": null,
   "metadata": {
    "dotnet_interactive": {
     "language": "csharp"
    },
    "vscode": {
     "languageId": "dotnet-interactive.csharp"
    }
   },
   "outputs": [],
   "source": [
    "#!value --from-file speaker-data.json --name speakerData"
   ]
  },
  {
   "cell_type": "code",
   "execution_count": null,
   "metadata": {
    "dotnet_interactive": {
     "language": "csharp"
    },
    "vscode": {
     "languageId": "dotnet-interactive.csharp"
    }
   },
   "outputs": [],
   "source": [
    "#!share speakerData --from value\n",
    "\n",
    "display(speakerData);"
   ]
  },
  {
   "cell_type": "markdown",
   "metadata": {},
   "source": [
    "在設計 Notebook 的時候，有時候會想要讓使用這自行輸入某些設定值，當然使用者可以直接修改程式，不過 `#!value` 搭配 `--from-value` 可以提供一種彈跳輸入框的方式，讓使用者可以更直覺的輸入資料\n",
    "\n",
    "- `@input`\n",
    "- `@password`\n",
    "\n",
    ">目前還是隱藏版的功能，沒有文件，但有單元測試 [InputsWithinMagicCommandsTests.cs#L66](https://github.com/dotnet/interactive/blob/main/src/Microsoft.DotNet.Interactive.Tests/InputsWithinMagicCommandsTests.cs#L66)"
   ]
  },
  {
   "cell_type": "code",
   "execution_count": null,
   "metadata": {
    "dotnet_interactive": {
     "language": "csharp"
    },
    "vscode": {
     "languageId": "dotnet-interactive.csharp"
    }
   },
   "outputs": [],
   "source": [
    "#!value --from-value @input:myName --name myName"
   ]
  },
  {
   "cell_type": "code",
   "execution_count": null,
   "metadata": {
    "dotnet_interactive": {
     "language": "csharp"
    },
    "vscode": {
     "languageId": "dotnet-interactive.csharp"
    }
   },
   "outputs": [
    {
     "name": "stdout",
     "output_type": "stream",
     "text": [
      "poy\r\n"
     ]
    }
   ],
   "source": [
    "#!share --from value myName\n",
    "\n",
    "myName"
   ]
  },
  {
   "cell_type": "markdown",
   "metadata": {},
   "source": [
    "# 呼叫 REST API\n",
    "\n",
    "用最簡單的方式來呼叫 REST API"
   ]
  },
  {
   "cell_type": "code",
   "execution_count": null,
   "metadata": {
    "dotnet_interactive": {
     "language": "csharp"
    },
    "vscode": {
     "languageId": "dotnet-interactive.csharp"
    }
   },
   "outputs": [],
   "source": [
    "using System.Net.Http;\n",
    "\n",
    "var contents = await new HttpClient().GetStringAsync(\"https://jsonplaceholder.typicode.com/todos/1\");\n",
    "\n",
    "display(contents);"
   ]
  },
  {
   "cell_type": "markdown",
   "metadata": {
    "dotnet_interactive": {
     "language": "csharp"
    }
   },
   "source": [
    "# 連結資料庫\n"
   ]
  },
  {
   "cell_type": "code",
   "execution_count": null,
   "metadata": {
    "dotnet_interactive": {
     "language": "csharp"
    },
    "vscode": {
     "languageId": "dotnet-interactive.csharp"
    }
   },
   "outputs": [],
   "source": [
    "#r \"nuget:Microsoft.DotNet.Interactive.SqlServer,*-*\""
   ]
  },
  {
   "cell_type": "code",
   "execution_count": null,
   "metadata": {
    "dotnet_interactive": {
     "language": "csharp"
    },
    "vscode": {
     "languageId": "dotnet-interactive.csharp"
    }
   },
   "outputs": [],
   "source": [
    "#!connect mssql --create-dbcontext --kernel-name adventureworks \"Server=localhost\\SQLEXPRESS;Database=AdventureWorksLT2019;Trusted_Connection=True;\""
   ]
  },
  {
   "cell_type": "code",
   "execution_count": null,
   "metadata": {
    "dotnet_interactive": {
     "language": "csharp"
    },
    "vscode": {
     "languageId": "dotnet-interactive.csharp"
    }
   },
   "outputs": [],
   "source": [
    "#!sql-adventureworks\n",
    "\n",
    "select * from SalesLT.Product"
   ]
  },
  {
   "cell_type": "code",
   "execution_count": null,
   "metadata": {
    "dotnet_interactive": {
     "language": "csharp"
    },
    "vscode": {
     "languageId": "dotnet-interactive.csharp"
    }
   },
   "outputs": [],
   "source": [
    "adventureworks.Product.ExploreWithSandDance()"
   ]
  },
  {
   "cell_type": "markdown",
   "metadata": {},
   "source": [
    "# Sand Dance\n",
    "\n",
    "[SandDance](https://microsoft.github.io/SandDance/) 是微軟研究院推出的數據可視化工具\n",
    "\n",
    "提供使用者和 3D 訊息圖表進行互動，並且可以用不同的角度來呈現分析結果，讓使用者藉由可視化的方式直觀的接受數據訊息，幫助我們找到數據中潛在的特徵\n"
   ]
  },
  {
   "cell_type": "code",
   "execution_count": null,
   "metadata": {
    "dotnet_interactive": {
     "language": "csharp"
    },
    "vscode": {
     "languageId": "dotnet-interactive.csharp"
    }
   },
   "outputs": [],
   "source": [
    "#r \"nuget:Microsoft.DotNet.Interactive.ExtensionLab,*-*\""
   ]
  },
  {
   "cell_type": "code",
   "execution_count": null,
   "metadata": {
    "dotnet_interactive": {
     "language": "csharp"
    },
    "vscode": {
     "languageId": "dotnet-interactive.csharp"
    }
   },
   "outputs": [],
   "source": [
    "using System.IO;\n",
    "using System.Net.Http;\n",
    "\n",
    "string housingPath = \"housing.csv\";\n",
    "\n",
    "if (!File.Exists(housingPath))\n",
    "{\n",
    "    var contents = await new HttpClient()\n",
    "        .GetStringAsync(\"https://raw.githubusercontent.com/ageron/handson-ml2/master/datasets/housing/housing.csv\");\n",
    "        \n",
    "    File.WriteAllText(\"housing.csv\", contents);\n",
    "}"
   ]
  },
  {
   "cell_type": "code",
   "execution_count": null,
   "metadata": {
    "dotnet_interactive": {
     "language": "csharp"
    },
    "vscode": {
     "languageId": "dotnet-interactive.csharp"
    }
   },
   "outputs": [],
   "source": [
    "using Microsoft.Data.Analysis;\n",
    "using Microsoft.ML;\n",
    "using System.Collections.Generic;\n",
    "\n",
    "var housingData = DataFrame.LoadCsv(housingPath);"
   ]
  },
  {
   "cell_type": "code",
   "execution_count": null,
   "metadata": {
    "dotnet_interactive": {
     "language": "csharp"
    },
    "vscode": {
     "languageId": "dotnet-interactive.csharp"
    }
   },
   "outputs": [],
   "source": [
    "housingData.ExploreWithSandDance().Display();"
   ]
  }
 ],
 "metadata": {
  "kernelspec": {
   "display_name": ".NET (C#)",
   "language": "C#",
   "name": ".net-csharp"
  },
  "language_info": {
   "name": "C#"
  }
 },
 "nbformat": 4,
 "nbformat_minor": 2
}
