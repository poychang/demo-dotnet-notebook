{
 "cells": [
  {
   "cell_type": "markdown",
   "source": [
    "# Hello World\r\n",
    "\r\n",
    "現在我們要來執行 **C# 程式碼**"
   ],
   "metadata": {
    "dotnet_interactive": {
     "language": "csharp"
    }
   }
  },
  {
   "cell_type": "code",
   "execution_count": null,
   "source": [
    "var title = \"Play .NET Notebook\";\r\n",
    "var year = 2021;\r\n",
    "\r\n",
    "#!who\r\n",
    "#!whos"
   ],
   "outputs": [],
   "metadata": {
    "dotnet_interactive": {
     "language": "csharp"
    }
   }
  },
  {
   "cell_type": "markdown",
   "source": [],
   "metadata": {}
  }
 ],
 "metadata": {
  "kernelspec": {
   "display_name": ".NET (C#)",
   "language": "C#",
   "name": ".net-csharp"
  },
  "language_info": {
   "name": "C#"
  }
 },
 "nbformat": 4,
 "nbformat_minor": 2
}